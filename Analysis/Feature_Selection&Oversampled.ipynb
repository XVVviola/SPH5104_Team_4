{
 "cells": [
  {
   "cell_type": "code",
   "execution_count": 416,
   "id": "e1227026",
   "metadata": {},
   "outputs": [],
   "source": [
    "import pandas as pd\n",
    "import seaborn as sns\n",
    "import numpy as np\n",
    "import matplotlib.pyplot as plt\n",
    "%matplotlib inline\n",
    "from sklearn.ensemble import RandomForestRegressor\n",
    "from sklearn.svm import SVC\n",
    "from sklearn.metrics import confusion_matrix, plot_confusion_matrix\n",
    "from sklearn.metrics import classification_report\n",
    "from sklearn.model_selection import StratifiedKFold, KFold\n",
    "from sklearn import preprocessing\n",
    "from sklearn.metrics import matthews_corrcoef\n",
    "from sklearn.model_selection import train_test_split\n",
    "from sklearn.preprocessing import MinMaxScaler,StandardScaler\n",
    "from sklearn.tree import DecisionTreeRegressor "
   ]
  },
  {
   "cell_type": "code",
   "execution_count": 417,
   "id": "04de9e00",
   "metadata": {},
   "outputs": [],
   "source": [
    "# Load dataset\n",
    "df0 = pd.read_csv(\"sub_data_9april.csv\", header = 0)"
   ]
  },
  {
   "cell_type": "code",
   "execution_count": 418,
   "id": "f6359af0",
   "metadata": {},
   "outputs": [],
   "source": [
    "sofa=pd.read_csv(\"Final cohort with SOFA.csv\", header = 0)"
   ]
  },
  {
   "cell_type": "code",
   "execution_count": 419,
   "id": "a4d9c976",
   "metadata": {},
   "outputs": [],
   "source": [
    "df=df0.copy()"
   ]
  },
  {
   "cell_type": "code",
   "execution_count": 420,
   "id": "1e4927fe",
   "metadata": {},
   "outputs": [],
   "source": [
    "df = pd.merge(df,sofa[['subject_id','hadm_id','stay_id','sofa_24hours']],on=['subject_id','hadm_id','stay_id'], how='left')"
   ]
  },
  {
   "cell_type": "code",
   "execution_count": 421,
   "id": "e5fbfccf",
   "metadata": {},
   "outputs": [
    {
     "name": "stdout",
     "output_type": "stream",
     "text": [
      "<class 'pandas.core.frame.DataFrame'>\n",
      "Int64Index: 201 entries, 0 to 200\n",
      "Columns: 225 entries, subject_id to sofa_24hours\n",
      "dtypes: float64(79), int64(17), object(129)\n",
      "memory usage: 354.9+ KB\n"
     ]
    }
   ],
   "source": [
    "# Check its data type and its dimension\n",
    "df.info()"
   ]
  },
  {
   "cell_type": "code",
   "execution_count": 422,
   "id": "bcfe3e8a",
   "metadata": {},
   "outputs": [],
   "source": [
    "df=df[(df['statin']!=2)]"
   ]
  },
  {
   "cell_type": "code",
   "execution_count": 423,
   "id": "1e4721d3",
   "metadata": {},
   "outputs": [
    {
     "data": {
      "text/plain": [
       "['subject_id',\n",
       " 'hadm_id',\n",
       " 'stay_id',\n",
       " 'first_careunit_1',\n",
       " 'last_careunit_1',\n",
       " 'intime_1',\n",
       " 'outtime_1',\n",
       " 'charttime_1',\n",
       " 'storetime_1',\n",
       " 'flag_1',\n",
       " 'priority_1',\n",
       " 'charttime_2',\n",
       " 'storetime_2',\n",
       " 'flag_2',\n",
       " 'priority_2',\n",
       " 'charttime_3',\n",
       " 'storetime_3',\n",
       " 'flag_3',\n",
       " 'priority_3',\n",
       " 'charttime_4',\n",
       " 'storetime_4',\n",
       " 'flag_4',\n",
       " 'priority_4',\n",
       " 'charttime_5',\n",
       " 'storetime_5',\n",
       " 'flag_5',\n",
       " 'priority_5',\n",
       " 'charttime_6',\n",
       " 'storetime_6',\n",
       " 'flag_6',\n",
       " 'priority_6',\n",
       " 'charttime_7',\n",
       " 'storetime_7',\n",
       " 'flag_7',\n",
       " 'priority_7',\n",
       " 'charttime_8',\n",
       " 'storetime_8',\n",
       " 'flag_8',\n",
       " 'priority_8',\n",
       " 'charttime_9',\n",
       " 'storetime_9',\n",
       " 'flag_9',\n",
       " 'priority_9',\n",
       " 'charttime_10',\n",
       " 'storetime_10',\n",
       " 'flag_10',\n",
       " 'priority_10',\n",
       " 'charttime_11',\n",
       " 'storetime_11',\n",
       " 'flag_11',\n",
       " 'priority_11',\n",
       " 'charttime_12',\n",
       " 'storetime_12',\n",
       " 'flag_12',\n",
       " 'priority_12',\n",
       " 'charttime_13',\n",
       " 'storetime_13',\n",
       " 'flag_13',\n",
       " 'priority_13',\n",
       " 'charttime_14',\n",
       " 'storetime_14',\n",
       " 'flag_14',\n",
       " 'priority_14',\n",
       " 'charttime_15',\n",
       " 'storetime_15',\n",
       " 'flag_15',\n",
       " 'priority_15',\n",
       " 'charttime_16',\n",
       " 'storetime_16',\n",
       " 'flag_16',\n",
       " 'priority_16',\n",
       " 'charttime_17',\n",
       " 'storetime_17',\n",
       " 'flag_17',\n",
       " 'priority_17',\n",
       " 'charttime_18',\n",
       " 'storetime_18',\n",
       " 'flag_18',\n",
       " 'priority_18',\n",
       " 'charttime_19',\n",
       " 'storetime_19',\n",
       " 'flag_19',\n",
       " 'priority_19',\n",
       " 'charttime_20',\n",
       " 'storetime_20',\n",
       " 'flag_20',\n",
       " 'priority_20',\n",
       " 'charttime_21',\n",
       " 'storetime_21',\n",
       " 'flag_21',\n",
       " 'priority_21',\n",
       " 'charttime_22',\n",
       " 'storetime_22',\n",
       " 'flag_22',\n",
       " 'priority_22',\n",
       " 'charttime_23',\n",
       " 'storetime_23',\n",
       " 'flag_23',\n",
       " 'priority_23',\n",
       " 'charttime_24',\n",
       " 'storetime_24',\n",
       " 'flag_24',\n",
       " 'priority_24',\n",
       " 'charttime_25',\n",
       " 'storetime_25',\n",
       " 'flag_25',\n",
       " 'priority_25',\n",
       " 'charttime_26',\n",
       " 'storetime_26',\n",
       " 'flag_26',\n",
       " 'priority_26',\n",
       " 'charttime_27',\n",
       " 'storetime_27',\n",
       " 'flag_27',\n",
       " 'priority_27',\n",
       " 'charttime_28',\n",
       " 'storetime_28',\n",
       " 'flag_28',\n",
       " 'priority_28',\n",
       " 'los_1',\n",
       " 'value_1',\n",
       " 'value_2',\n",
       " 'value_3',\n",
       " 'value_4',\n",
       " 'value_5',\n",
       " 'value_6',\n",
       " 'value_7',\n",
       " 'value_8',\n",
       " 'value_9',\n",
       " 'value_10',\n",
       " 'value_11',\n",
       " 'value_12',\n",
       " 'value_13',\n",
       " 'value_14',\n",
       " 'value_15',\n",
       " 'value_16',\n",
       " 'value_17',\n",
       " 'value_18',\n",
       " 'value_19',\n",
       " 'value_20',\n",
       " 'value_21',\n",
       " 'value_22',\n",
       " 'value_23',\n",
       " 'value_24',\n",
       " 'value_25',\n",
       " 'value_26',\n",
       " 'value_27',\n",
       " 'value_28',\n",
       " 'icd_version',\n",
       " 'seq_1',\n",
       " 'seq_2',\n",
       " 'seq_3',\n",
       " 'seq_4',\n",
       " 'seq_5',\n",
       " 'seq_6',\n",
       " 'seq_7',\n",
       " 'seq_8',\n",
       " 'seq_9',\n",
       " 'seq_10',\n",
       " 'seq_11',\n",
       " 'seq_12',\n",
       " 'seq_13',\n",
       " 'seq_14',\n",
       " 'seq_15',\n",
       " 'seq_16',\n",
       " 'seq_17',\n",
       " 'seq_18',\n",
       " 'seq_19',\n",
       " 'seq_20',\n",
       " 'seq_21',\n",
       " 'seq_22',\n",
       " 'seq_23',\n",
       " 'seq_24',\n",
       " 'seq_25',\n",
       " 'seq_26',\n",
       " 'seq_27',\n",
       " 'seq_28',\n",
       " 'seq_29',\n",
       " 'seq_30',\n",
       " 'seq_31',\n",
       " 'seq_32',\n",
       " 'seq_33',\n",
       " 'seq_34',\n",
       " 'seq_35',\n",
       " 'seq_36',\n",
       " 'seq_37',\n",
       " 'seq_38',\n",
       " 'seq_39',\n",
       " 'gender',\n",
       " 'anchor_age',\n",
       " 'anchor_year',\n",
       " 'anchor_year_group',\n",
       " 'dod',\n",
       " 'Chronic_kidney_disease',\n",
       " 'COPD',\n",
       " 'Atrial_fibrillation',\n",
       " 'hypertension',\n",
       " 'Ischemic_heart_disease',\n",
       " 'diabetes',\n",
       " 'Cerebrovascular',\n",
       " 'Admission.Weight..Kg.',\n",
       " 'creatinine_storetime_1',\n",
       " 'creatinine_value_1',\n",
       " 'creatinine_charttime_1',\n",
       " 'value_max',\n",
       " 'admittime',\n",
       " 'charttime_First',\n",
       " 'intime',\n",
       " 'starttime',\n",
       " 'statin',\n",
       " 'T1_Tmax',\n",
       " 'value_max2',\n",
       " 'value_mean',\n",
       " 'value_median',\n",
       " 'abnormal',\n",
       " 'no_rep',\n",
       " 'change_1max',\n",
       " 'change_1max2',\n",
       " 'value_1_cat_0.2',\n",
       " 'value_1_cat_0.3',\n",
       " 'value_1_cat_0.35',\n",
       " 'log_value_max',\n",
       " 'log_value_1',\n",
       " 'Intervention',\n",
       " 'sofa_24hours']"
      ]
     },
     "execution_count": 423,
     "metadata": {},
     "output_type": "execute_result"
    }
   ],
   "source": [
    "list(df.columns)"
   ]
  },
  {
   "cell_type": "code",
   "execution_count": 424,
   "id": "9743ecdc",
   "metadata": {
    "scrolled": true
   },
   "outputs": [
    {
     "data": {
      "text/plain": [
       "Non-statin       173\n",
       "Statin before     28\n",
       "Name: Intervention, dtype: int64"
      ]
     },
     "execution_count": 424,
     "metadata": {},
     "output_type": "execute_result"
    }
   ],
   "source": [
    "df['Intervention'].value_counts()"
   ]
  },
  {
   "cell_type": "code",
   "execution_count": 425,
   "id": "0ba259af",
   "metadata": {},
   "outputs": [],
   "source": [
    "df=df[['sofa_24hours','change_1max2','Admission.Weight..Kg.','los_1','gender','anchor_age','creatinine_value_1',\n",
    " 'Intervention',\n",
    " 'first_careunit_1',\n",
    " 'last_careunit_1',\n",
    " 'statin',\n",
    " 'Chronic_kidney_disease',\n",
    " 'COPD',\n",
    " 'Atrial_fibrillation',\n",
    " 'hypertension',\n",
    " 'Ischemic_heart_disease',\n",
    " 'diabetes',\n",
    " 'Cerebrovascular']]"
   ]
  },
  {
   "cell_type": "code",
   "execution_count": 426,
   "id": "59d1082c",
   "metadata": {},
   "outputs": [
    {
     "name": "stdout",
     "output_type": "stream",
     "text": [
      "<class 'pandas.core.frame.DataFrame'>\n",
      "Int64Index: 201 entries, 0 to 200\n",
      "Data columns (total 18 columns):\n",
      " #   Column                  Non-Null Count  Dtype  \n",
      "---  ------                  --------------  -----  \n",
      " 0   sofa_24hours            201 non-null    int64  \n",
      " 1   change_1max2            201 non-null    float64\n",
      " 2   Admission.Weight..Kg.   177 non-null    float64\n",
      " 3   los_1                   201 non-null    float64\n",
      " 4   gender                  201 non-null    object \n",
      " 5   anchor_age              201 non-null    int64  \n",
      " 6   creatinine_value_1      201 non-null    float64\n",
      " 7   Intervention            201 non-null    object \n",
      " 8   first_careunit_1        201 non-null    object \n",
      " 9   last_careunit_1         201 non-null    object \n",
      " 10  statin                  201 non-null    int64  \n",
      " 11  Chronic_kidney_disease  201 non-null    int64  \n",
      " 12  COPD                    201 non-null    int64  \n",
      " 13  Atrial_fibrillation     201 non-null    int64  \n",
      " 14  hypertension            201 non-null    int64  \n",
      " 15  Ischemic_heart_disease  201 non-null    int64  \n",
      " 16  diabetes                201 non-null    int64  \n",
      " 17  Cerebrovascular         201 non-null    int64  \n",
      "dtypes: float64(4), int64(10), object(4)\n",
      "memory usage: 29.8+ KB\n"
     ]
    }
   ],
   "source": [
    "df.info()"
   ]
  },
  {
   "cell_type": "code",
   "execution_count": 427,
   "id": "40dcbc3b",
   "metadata": {},
   "outputs": [],
   "source": [
    "df=df.dropna()"
   ]
  },
  {
   "cell_type": "code",
   "execution_count": 428,
   "id": "2089d95f",
   "metadata": {},
   "outputs": [
    {
     "name": "stdout",
     "output_type": "stream",
     "text": [
      "<class 'pandas.core.frame.DataFrame'>\n",
      "Int64Index: 177 entries, 0 to 200\n",
      "Data columns (total 18 columns):\n",
      " #   Column                  Non-Null Count  Dtype  \n",
      "---  ------                  --------------  -----  \n",
      " 0   sofa_24hours            177 non-null    int64  \n",
      " 1   change_1max2            177 non-null    float64\n",
      " 2   Admission.Weight..Kg.   177 non-null    float64\n",
      " 3   los_1                   177 non-null    float64\n",
      " 4   gender                  177 non-null    object \n",
      " 5   anchor_age              177 non-null    int64  \n",
      " 6   creatinine_value_1      177 non-null    float64\n",
      " 7   Intervention            177 non-null    object \n",
      " 8   first_careunit_1        177 non-null    object \n",
      " 9   last_careunit_1         177 non-null    object \n",
      " 10  statin                  177 non-null    int64  \n",
      " 11  Chronic_kidney_disease  177 non-null    int64  \n",
      " 12  COPD                    177 non-null    int64  \n",
      " 13  Atrial_fibrillation     177 non-null    int64  \n",
      " 14  hypertension            177 non-null    int64  \n",
      " 15  Ischemic_heart_disease  177 non-null    int64  \n",
      " 16  diabetes                177 non-null    int64  \n",
      " 17  Cerebrovascular         177 non-null    int64  \n",
      "dtypes: float64(4), int64(10), object(4)\n",
      "memory usage: 26.3+ KB\n"
     ]
    }
   ],
   "source": [
    "df.info()"
   ]
  },
  {
   "cell_type": "code",
   "execution_count": 429,
   "id": "3b934011",
   "metadata": {},
   "outputs": [],
   "source": [
    "# Assign X and y\n",
    "y=df['change_1max2']\n",
    "X=df[['sofa_24hours','Admission.Weight..Kg.','los_1','gender','anchor_age','creatinine_value_1',\n",
    "  'Intervention',\n",
    " 'first_careunit_1',\n",
    " 'last_careunit_1',\n",
    " 'statin',\n",
    " 'Chronic_kidney_disease',\n",
    " 'COPD',\n",
    " 'Atrial_fibrillation',\n",
    " 'hypertension',\n",
    " 'Ischemic_heart_disease',\n",
    " 'diabetes',\n",
    " 'Cerebrovascular']]"
   ]
  },
  {
   "cell_type": "code",
   "execution_count": 430,
   "id": "a4b70cd1",
   "metadata": {},
   "outputs": [
    {
     "data": {
      "text/plain": [
       "Non-statin       152\n",
       "Statin before     25\n",
       "Name: Intervention, dtype: int64"
      ]
     },
     "execution_count": 430,
     "metadata": {},
     "output_type": "execute_result"
    }
   ],
   "source": [
    "df['Intervention'].value_counts()"
   ]
  },
  {
   "cell_type": "code",
   "execution_count": 431,
   "id": "2a3c7c73",
   "metadata": {
    "scrolled": true
   },
   "outputs": [
    {
     "data": {
      "text/html": [
       "<div>\n",
       "<style scoped>\n",
       "    .dataframe tbody tr th:only-of-type {\n",
       "        vertical-align: middle;\n",
       "    }\n",
       "\n",
       "    .dataframe tbody tr th {\n",
       "        vertical-align: top;\n",
       "    }\n",
       "\n",
       "    .dataframe thead th {\n",
       "        text-align: right;\n",
       "    }\n",
       "</style>\n",
       "<table border=\"1\" class=\"dataframe\">\n",
       "  <thead>\n",
       "    <tr style=\"text-align: right;\">\n",
       "      <th></th>\n",
       "      <th>sofa_24hours</th>\n",
       "      <th>Admission.Weight..Kg.</th>\n",
       "      <th>los_1</th>\n",
       "      <th>gender</th>\n",
       "      <th>anchor_age</th>\n",
       "      <th>creatinine_value_1</th>\n",
       "      <th>Intervention</th>\n",
       "      <th>first_careunit_1</th>\n",
       "      <th>last_careunit_1</th>\n",
       "      <th>statin</th>\n",
       "      <th>Chronic_kidney_disease</th>\n",
       "      <th>COPD</th>\n",
       "      <th>Atrial_fibrillation</th>\n",
       "      <th>hypertension</th>\n",
       "      <th>Ischemic_heart_disease</th>\n",
       "      <th>diabetes</th>\n",
       "      <th>Cerebrovascular</th>\n",
       "    </tr>\n",
       "  </thead>\n",
       "  <tbody>\n",
       "    <tr>\n",
       "      <th>0</th>\n",
       "      <td>0</td>\n",
       "      <td>107.0</td>\n",
       "      <td>9.076829</td>\n",
       "      <td>M</td>\n",
       "      <td>72</td>\n",
       "      <td>1.4</td>\n",
       "      <td>Non-statin</td>\n",
       "      <td>Medical Intensive Care Unit (MICU)</td>\n",
       "      <td>Medical Intensive Care Unit (MICU)</td>\n",
       "      <td>0</td>\n",
       "      <td>1</td>\n",
       "      <td>1</td>\n",
       "      <td>0</td>\n",
       "      <td>0</td>\n",
       "      <td>0</td>\n",
       "      <td>0</td>\n",
       "      <td>0</td>\n",
       "    </tr>\n",
       "    <tr>\n",
       "      <th>1</th>\n",
       "      <td>3</td>\n",
       "      <td>106.1</td>\n",
       "      <td>11.106817</td>\n",
       "      <td>F</td>\n",
       "      <td>80</td>\n",
       "      <td>1.8</td>\n",
       "      <td>Non-statin</td>\n",
       "      <td>Surgical Intensive Care Unit (SICU)</td>\n",
       "      <td>Medical Intensive Care Unit (MICU)</td>\n",
       "      <td>0</td>\n",
       "      <td>0</td>\n",
       "      <td>0</td>\n",
       "      <td>0</td>\n",
       "      <td>0</td>\n",
       "      <td>1</td>\n",
       "      <td>0</td>\n",
       "      <td>0</td>\n",
       "    </tr>\n",
       "    <tr>\n",
       "      <th>2</th>\n",
       "      <td>3</td>\n",
       "      <td>52.0</td>\n",
       "      <td>1.750694</td>\n",
       "      <td>M</td>\n",
       "      <td>54</td>\n",
       "      <td>5.7</td>\n",
       "      <td>Statin before</td>\n",
       "      <td>Medical/Surgical Intensive Care Unit (MICU/SICU)</td>\n",
       "      <td>Medical/Surgical Intensive Care Unit (MICU/SICU)</td>\n",
       "      <td>1</td>\n",
       "      <td>0</td>\n",
       "      <td>0</td>\n",
       "      <td>0</td>\n",
       "      <td>0</td>\n",
       "      <td>0</td>\n",
       "      <td>0</td>\n",
       "      <td>0</td>\n",
       "    </tr>\n",
       "    <tr>\n",
       "      <th>3</th>\n",
       "      <td>1</td>\n",
       "      <td>40.0</td>\n",
       "      <td>2.137269</td>\n",
       "      <td>M</td>\n",
       "      <td>77</td>\n",
       "      <td>1.1</td>\n",
       "      <td>Non-statin</td>\n",
       "      <td>Surgical Intensive Care Unit (SICU)</td>\n",
       "      <td>Surgical Intensive Care Unit (SICU)</td>\n",
       "      <td>0</td>\n",
       "      <td>0</td>\n",
       "      <td>1</td>\n",
       "      <td>0</td>\n",
       "      <td>1</td>\n",
       "      <td>0</td>\n",
       "      <td>0</td>\n",
       "      <td>0</td>\n",
       "    </tr>\n",
       "    <tr>\n",
       "      <th>4</th>\n",
       "      <td>1</td>\n",
       "      <td>71.0</td>\n",
       "      <td>1.820602</td>\n",
       "      <td>F</td>\n",
       "      <td>63</td>\n",
       "      <td>0.7</td>\n",
       "      <td>Non-statin</td>\n",
       "      <td>Surgical Intensive Care Unit (SICU)</td>\n",
       "      <td>Surgical Intensive Care Unit (SICU)</td>\n",
       "      <td>0</td>\n",
       "      <td>0</td>\n",
       "      <td>0</td>\n",
       "      <td>0</td>\n",
       "      <td>0</td>\n",
       "      <td>0</td>\n",
       "      <td>0</td>\n",
       "      <td>1</td>\n",
       "    </tr>\n",
       "    <tr>\n",
       "      <th>...</th>\n",
       "      <td>...</td>\n",
       "      <td>...</td>\n",
       "      <td>...</td>\n",
       "      <td>...</td>\n",
       "      <td>...</td>\n",
       "      <td>...</td>\n",
       "      <td>...</td>\n",
       "      <td>...</td>\n",
       "      <td>...</td>\n",
       "      <td>...</td>\n",
       "      <td>...</td>\n",
       "      <td>...</td>\n",
       "      <td>...</td>\n",
       "      <td>...</td>\n",
       "      <td>...</td>\n",
       "      <td>...</td>\n",
       "      <td>...</td>\n",
       "    </tr>\n",
       "    <tr>\n",
       "      <th>195</th>\n",
       "      <td>8</td>\n",
       "      <td>80.0</td>\n",
       "      <td>10.699711</td>\n",
       "      <td>M</td>\n",
       "      <td>64</td>\n",
       "      <td>2.9</td>\n",
       "      <td>Non-statin</td>\n",
       "      <td>Trauma SICU (TSICU)</td>\n",
       "      <td>Trauma SICU (TSICU)</td>\n",
       "      <td>0</td>\n",
       "      <td>0</td>\n",
       "      <td>0</td>\n",
       "      <td>0</td>\n",
       "      <td>1</td>\n",
       "      <td>0</td>\n",
       "      <td>0</td>\n",
       "      <td>0</td>\n",
       "    </tr>\n",
       "    <tr>\n",
       "      <th>196</th>\n",
       "      <td>0</td>\n",
       "      <td>56.5</td>\n",
       "      <td>0.823484</td>\n",
       "      <td>F</td>\n",
       "      <td>60</td>\n",
       "      <td>5.3</td>\n",
       "      <td>Non-statin</td>\n",
       "      <td>Medical Intensive Care Unit (MICU)</td>\n",
       "      <td>Medical Intensive Care Unit (MICU)</td>\n",
       "      <td>0</td>\n",
       "      <td>0</td>\n",
       "      <td>0</td>\n",
       "      <td>0</td>\n",
       "      <td>0</td>\n",
       "      <td>0</td>\n",
       "      <td>0</td>\n",
       "      <td>0</td>\n",
       "    </tr>\n",
       "    <tr>\n",
       "      <th>197</th>\n",
       "      <td>1</td>\n",
       "      <td>47.5</td>\n",
       "      <td>0.545880</td>\n",
       "      <td>F</td>\n",
       "      <td>89</td>\n",
       "      <td>1.3</td>\n",
       "      <td>Non-statin</td>\n",
       "      <td>Medical/Surgical Intensive Care Unit (MICU/SICU)</td>\n",
       "      <td>Medical/Surgical Intensive Care Unit (MICU/SICU)</td>\n",
       "      <td>0</td>\n",
       "      <td>0</td>\n",
       "      <td>0</td>\n",
       "      <td>0</td>\n",
       "      <td>1</td>\n",
       "      <td>0</td>\n",
       "      <td>0</td>\n",
       "      <td>0</td>\n",
       "    </tr>\n",
       "    <tr>\n",
       "      <th>198</th>\n",
       "      <td>0</td>\n",
       "      <td>81.1</td>\n",
       "      <td>1.407037</td>\n",
       "      <td>F</td>\n",
       "      <td>56</td>\n",
       "      <td>0.9</td>\n",
       "      <td>Non-statin</td>\n",
       "      <td>Medical/Surgical Intensive Care Unit (MICU/SICU)</td>\n",
       "      <td>Medical/Surgical Intensive Care Unit (MICU/SICU)</td>\n",
       "      <td>0</td>\n",
       "      <td>0</td>\n",
       "      <td>0</td>\n",
       "      <td>0</td>\n",
       "      <td>0</td>\n",
       "      <td>0</td>\n",
       "      <td>0</td>\n",
       "      <td>0</td>\n",
       "    </tr>\n",
       "    <tr>\n",
       "      <th>200</th>\n",
       "      <td>0</td>\n",
       "      <td>59.8</td>\n",
       "      <td>10.962442</td>\n",
       "      <td>M</td>\n",
       "      <td>91</td>\n",
       "      <td>1.7</td>\n",
       "      <td>Non-statin</td>\n",
       "      <td>Trauma SICU (TSICU)</td>\n",
       "      <td>Trauma SICU (TSICU)</td>\n",
       "      <td>0</td>\n",
       "      <td>1</td>\n",
       "      <td>0</td>\n",
       "      <td>1</td>\n",
       "      <td>0</td>\n",
       "      <td>0</td>\n",
       "      <td>0</td>\n",
       "      <td>0</td>\n",
       "    </tr>\n",
       "  </tbody>\n",
       "</table>\n",
       "<p>177 rows × 17 columns</p>\n",
       "</div>"
      ],
      "text/plain": [
       "     sofa_24hours  Admission.Weight..Kg.      los_1 gender  anchor_age  \\\n",
       "0               0                  107.0   9.076829      M          72   \n",
       "1               3                  106.1  11.106817      F          80   \n",
       "2               3                   52.0   1.750694      M          54   \n",
       "3               1                   40.0   2.137269      M          77   \n",
       "4               1                   71.0   1.820602      F          63   \n",
       "..            ...                    ...        ...    ...         ...   \n",
       "195             8                   80.0  10.699711      M          64   \n",
       "196             0                   56.5   0.823484      F          60   \n",
       "197             1                   47.5   0.545880      F          89   \n",
       "198             0                   81.1   1.407037      F          56   \n",
       "200             0                   59.8  10.962442      M          91   \n",
       "\n",
       "     creatinine_value_1   Intervention  \\\n",
       "0                   1.4     Non-statin   \n",
       "1                   1.8     Non-statin   \n",
       "2                   5.7  Statin before   \n",
       "3                   1.1     Non-statin   \n",
       "4                   0.7     Non-statin   \n",
       "..                  ...            ...   \n",
       "195                 2.9     Non-statin   \n",
       "196                 5.3     Non-statin   \n",
       "197                 1.3     Non-statin   \n",
       "198                 0.9     Non-statin   \n",
       "200                 1.7     Non-statin   \n",
       "\n",
       "                                     first_careunit_1  \\\n",
       "0                  Medical Intensive Care Unit (MICU)   \n",
       "1                 Surgical Intensive Care Unit (SICU)   \n",
       "2    Medical/Surgical Intensive Care Unit (MICU/SICU)   \n",
       "3                 Surgical Intensive Care Unit (SICU)   \n",
       "4                 Surgical Intensive Care Unit (SICU)   \n",
       "..                                                ...   \n",
       "195                               Trauma SICU (TSICU)   \n",
       "196                Medical Intensive Care Unit (MICU)   \n",
       "197  Medical/Surgical Intensive Care Unit (MICU/SICU)   \n",
       "198  Medical/Surgical Intensive Care Unit (MICU/SICU)   \n",
       "200                               Trauma SICU (TSICU)   \n",
       "\n",
       "                                      last_careunit_1  statin  \\\n",
       "0                  Medical Intensive Care Unit (MICU)       0   \n",
       "1                  Medical Intensive Care Unit (MICU)       0   \n",
       "2    Medical/Surgical Intensive Care Unit (MICU/SICU)       1   \n",
       "3                 Surgical Intensive Care Unit (SICU)       0   \n",
       "4                 Surgical Intensive Care Unit (SICU)       0   \n",
       "..                                                ...     ...   \n",
       "195                               Trauma SICU (TSICU)       0   \n",
       "196                Medical Intensive Care Unit (MICU)       0   \n",
       "197  Medical/Surgical Intensive Care Unit (MICU/SICU)       0   \n",
       "198  Medical/Surgical Intensive Care Unit (MICU/SICU)       0   \n",
       "200                               Trauma SICU (TSICU)       0   \n",
       "\n",
       "     Chronic_kidney_disease  COPD  Atrial_fibrillation  hypertension  \\\n",
       "0                         1     1                    0             0   \n",
       "1                         0     0                    0             0   \n",
       "2                         0     0                    0             0   \n",
       "3                         0     1                    0             1   \n",
       "4                         0     0                    0             0   \n",
       "..                      ...   ...                  ...           ...   \n",
       "195                       0     0                    0             1   \n",
       "196                       0     0                    0             0   \n",
       "197                       0     0                    0             1   \n",
       "198                       0     0                    0             0   \n",
       "200                       1     0                    1             0   \n",
       "\n",
       "     Ischemic_heart_disease  diabetes  Cerebrovascular  \n",
       "0                         0         0                0  \n",
       "1                         1         0                0  \n",
       "2                         0         0                0  \n",
       "3                         0         0                0  \n",
       "4                         0         0                1  \n",
       "..                      ...       ...              ...  \n",
       "195                       0         0                0  \n",
       "196                       0         0                0  \n",
       "197                       0         0                0  \n",
       "198                       0         0                0  \n",
       "200                       0         0                0  \n",
       "\n",
       "[177 rows x 17 columns]"
      ]
     },
     "execution_count": 431,
     "metadata": {},
     "output_type": "execute_result"
    }
   ],
   "source": [
    "X"
   ]
  },
  {
   "cell_type": "code",
   "execution_count": 432,
   "id": "b006c677",
   "metadata": {},
   "outputs": [],
   "source": [
    "#One-hot-enconding for categorical columns\n",
    "X=pd.get_dummies(data=X,columns=[ 'gender','first_careunit_1', 'Intervention',\n",
    " 'last_careunit_1'],drop_first=True)"
   ]
  },
  {
   "cell_type": "code",
   "execution_count": 433,
   "id": "e30e9d25",
   "metadata": {},
   "outputs": [],
   "source": [
    "# define min max scaler\n",
    "#scaler = MinMaxScaler()\n",
    "# transform data\n",
    "#X = pd.DataFrame(scaler.fit_transform(X), columns = X.columns)\n",
    "#X"
   ]
  },
  {
   "cell_type": "code",
   "execution_count": 489,
   "id": "0d466ac8",
   "metadata": {},
   "outputs": [
    {
     "data": {
      "text/plain": [
       "<AxesSubplot:ylabel='statin'>"
      ]
     },
     "execution_count": 489,
     "metadata": {},
     "output_type": "execute_result"
    },
    {
     "data": {
      "image/png": "[encoded data removed]",
      "text/plain": [
       "<Figure size 432x288 with 1 Axes>"
      ]
     },
     "metadata": {
      "needs_background": "light"
     },
     "output_type": "display_data"
    }
   ],
   "source": [
    "sns.barplot(x=X_train.statin.value_counts().index, y=X_train.statin.value_counts())"
   ]
  },
  {
   "cell_type": "code",
   "execution_count": 434,
   "id": "001cf4d0",
   "metadata": {
    "scrolled": false
   },
   "outputs": [
    {
     "name": "stdout",
     "output_type": "stream",
     "text": [
      "Requirement already satisfied: imblearn in /Users/rueyyanbeh/miniforge3/envs/m1_tf/lib/python3.8/site-packages (0.0)\n",
      "Requirement already satisfied: imbalanced-learn in /Users/rueyyanbeh/miniforge3/envs/m1_tf/lib/python3.8/site-packages (from imblearn) (0.9.0)\n",
      "Requirement already satisfied: joblib>=0.11 in /Users/rueyyanbeh/miniforge3/envs/m1_tf/lib/python3.8/site-packages (from imbalanced-learn->imblearn) (1.1.0)\n",
      "Requirement already satisfied: scipy>=1.1.0 in /Users/rueyyanbeh/miniforge3/envs/m1_tf/lib/python3.8/site-packages (from imbalanced-learn->imblearn) (1.7.3)\n",
      "Requirement already satisfied: threadpoolctl>=2.0.0 in /Users/rueyyanbeh/miniforge3/envs/m1_tf/lib/python3.8/site-packages (from imbalanced-learn->imblearn) (3.0.0)\n",
      "Requirement already satisfied: numpy>=1.14.6 in /Users/rueyyanbeh/miniforge3/envs/m1_tf/lib/python3.8/site-packages (from imbalanced-learn->imblearn) (1.22.0)\n",
      "Requirement already satisfied: scikit-learn>=1.0.1 in /Users/rueyyanbeh/miniforge3/envs/m1_tf/lib/python3.8/site-packages (from imbalanced-learn->imblearn) (1.0.2)\n",
      "Note: you may need to restart the kernel to use updated packages.\n"
     ]
    }
   ],
   "source": [
    "pip install imblearn"
   ]
  },
  {
   "cell_type": "code",
   "execution_count": 435,
   "id": "4cc73ee3",
   "metadata": {},
   "outputs": [],
   "source": [
    "X_train, X_test, y_train, y_test = train_test_split(X, y, test_size=0.1, random_state=0)"
   ]
  },
  {
   "cell_type": "markdown",
   "id": "d03cf898",
   "metadata": {},
   "source": [
    "# Random forest"
   ]
  },
  {
   "cell_type": "code",
   "execution_count": 448,
   "id": "4e31751e",
   "metadata": {},
   "outputs": [
    {
     "name": "stdout",
     "output_type": "stream",
     "text": [
      "RMSE^2:\n",
      "2.6875811577806155\n"
     ]
    }
   ],
   "source": [
    "from sklearn.metrics import r2_score\n",
    "from sklearn.metrics import mean_squared_error\n",
    "# 5-fold cross validation without SMOTE\n",
    "RF = RandomForestRegressor(random_state =1,criterion=\"absolute_error\",\n",
    "                           min_samples_split=10,min_samples_leaf=5,n_estimators=100)\n",
    "RF.fit(X_train,y_train)\n",
    "pred_values = RF.predict(X_test)\n",
    "rmse = mean_squared_error(y_test,pred_values)\n",
    "\n",
    "\n",
    "print('RMSE^2:')\n",
    "print('{}'.format(rmse))"
   ]
  },
  {
   "cell_type": "code",
   "execution_count": 449,
   "id": "fe769bfc",
   "metadata": {
    "scrolled": true
   },
   "outputs": [
    {
     "data": {
      "image/png": "[encoded data removed]",
      "text/plain": [
       "<Figure size 432x288 with 1 Axes>"
      ]
     },
     "metadata": {
      "needs_background": "light"
     },
     "output_type": "display_data"
    }
   ],
   "source": [
    "feat_importances = pd.Series(RF.feature_importances_, index=X_train.columns)\n",
    "feat_importances.nlargest(10).sort_values().plot(kind = 'barh')\n",
    "plt.title('Feature Importances')\n",
    "plt.xlabel('Relative Importance')\n",
    "plt.show()"
   ]
  },
  {
   "cell_type": "code",
   "execution_count": 473,
   "id": "34d21436",
   "metadata": {},
   "outputs": [
    {
     "data": {
      "image/png": "[encoded data removed]",
      "text/plain": [
       "<Figure size 720x360 with 1 Axes>"
      ]
     },
     "metadata": {
      "needs_background": "light"
     },
     "output_type": "display_data"
    }
   ],
   "source": [
    "from sklearn.inspection import permutation_importance\n",
    "\n",
    "result = permutation_importance(RF,\n",
    "                                X_train,\n",
    "                                y_train,\n",
    "                                n_repeats=100,random_state =1)\n",
    "sorted_idx = sorted_idx = result.importances_mean.argsort()[-10:]\n",
    "        \n",
    "fig, ax = plt.subplots(figsize=(10, 5))\n",
    "ax.boxplot(result.importances[sorted_idx].T,\n",
    "           vert=False, labels=X_test.columns[sorted_idx])\n",
    "ax.set_title(\"Permutation Importances\")\n",
    "fig.tight_layout()\n",
    "plt.show()"
   ]
  },
  {
   "cell_type": "markdown",
   "id": "0e79ad4e",
   "metadata": {},
   "source": [
    "## Random Forest(Oversampling Statin before group)"
   ]
  },
  {
   "cell_type": "code",
   "execution_count": 466,
   "id": "f3e4d54e",
   "metadata": {},
   "outputs": [
    {
     "name": "stdout",
     "output_type": "stream",
     "text": [
      "RMSE:\n",
      "2.7344538397865077\n"
     ]
    }
   ],
   "source": [
    "from imblearn.over_sampling import SMOTE\n",
    "oversample = SMOTE()\n",
    "RF_smote = RandomForestRegressor(random_state =1,criterion=\"absolute_error\",\n",
    "                           min_samples_split=10,min_samples_leaf=5,n_estimators=100)\n",
    "\n",
    "#SMOTE oversample issue for imbalanced dataset (only apply on train dataset)\n",
    "X_train_smote=X_train.copy()\n",
    "X_train_smote['T_max']=y_train\n",
    "y_smote=X_train_smote['statin']\n",
    "X_train_smote=X_train_smote.drop('statin',axis=1)\n",
    "X_train_smote, y_smote = oversample.fit_resample(X_train_smote, y_smote)\n",
    "y_train_smote=X_train_smote['T_max']\n",
    "X_train_smote=X_train_smote.drop('T_max',axis=1)\n",
    "RF_smote.fit(X_train_smote,y_train_smote)\n",
    "pred_values = RF_smote.predict(X_test.drop('statin',axis=1))\n",
    "rmse = mean_squared_error(y_test,pred_values)\n",
    "\n",
    "\n",
    "print('RMSE:')\n",
    "print('{}'.format(rmse))"
   ]
  },
  {
   "cell_type": "code",
   "execution_count": 488,
   "id": "e7596e3e",
   "metadata": {},
   "outputs": [
    {
     "data": {
      "text/plain": [
       "0    135\n",
       "1    135\n",
       "Name: Intervention_Statin before, dtype: int64"
      ]
     },
     "execution_count": 488,
     "metadata": {},
     "output_type": "execute_result"
    }
   ],
   "source": [
    "X_train_smote['Intervention_Statin before'].value_counts()"
   ]
  },
  {
   "cell_type": "code",
   "execution_count": 494,
   "id": "cbf534c1",
   "metadata": {},
   "outputs": [
    {
     "data": {
      "image/png": "[encoded data removed]",
      "text/plain": [
       "<Figure size 432x288 with 1 Axes>"
      ]
     },
     "metadata": {
      "needs_background": "light"
     },
     "output_type": "display_data"
    }
   ],
   "source": [
    "ax=sns.barplot(x=X_train_smote['Intervention_Statin before'].value_counts().index, y=X_train_smote['Intervention_Statin before'].value_counts())\n",
    "ax.set( ylabel='statin')\n",
    "plt.show()"
   ]
  },
  {
   "cell_type": "code",
   "execution_count": 469,
   "id": "99902be6",
   "metadata": {},
   "outputs": [
    {
     "data": {
      "image/png": "[encoded data removed]",
      "text/plain": [
       "<Figure size 432x288 with 1 Axes>"
      ]
     },
     "metadata": {
      "needs_background": "light"
     },
     "output_type": "display_data"
    }
   ],
   "source": [
    "feat_importances = pd.Series(RF_smote.feature_importances_, index=X_train_smote.columns)\n",
    "feat_importances.nlargest(10).sort_values().plot(kind = 'barh')\n",
    "plt.title('Feature Importances (SMOTE Oversampling)')\n",
    "plt.xlabel('Relative Importance')\n",
    "plt.show()"
   ]
  },
  {
   "cell_type": "code",
   "execution_count": 471,
   "id": "2b64b110",
   "metadata": {},
   "outputs": [
    {
     "data": {
      "image/png": "[encoded data removed]",
      "text/plain": [
       "<Figure size 720x360 with 1 Axes>"
      ]
     },
     "metadata": {
      "needs_background": "light"
     },
     "output_type": "display_data"
    }
   ],
   "source": [
    "from sklearn.inspection import permutation_importance\n",
    "\n",
    "result = permutation_importance(RF_smote,\n",
    "                                X_train_smote,y_train_smote,\n",
    "                                n_repeats=100,random_state =1)\n",
    "sorted_idx = sorted_idx = result.importances_mean.argsort()[-10:]\n",
    "        \n",
    "fig, ax = plt.subplots(figsize=(10, 5))\n",
    "ax.boxplot(result.importances[sorted_idx].T,\n",
    "           vert=False, labels=X_test.columns[sorted_idx])\n",
    "ax.set_title(\"Permutation Importances (SMOTE Oversampling)\")\n",
    "fig.tight_layout()\n",
    "plt.show()"
   ]
  },
  {
   "cell_type": "code",
   "execution_count": null,
   "id": "8ac2d004",
   "metadata": {},
   "outputs": [],
   "source": []
  },
  {
   "cell_type": "code",
   "execution_count": null,
   "id": "8ca554e7",
   "metadata": {},
   "outputs": [],
   "source": []
  }
 ],
 "metadata": {
  "kernelspec": {
   "display_name": "Python 3 (ipykernel)",
   "language": "python",
   "name": "python3"
  },
  "language_info": {
   "codemirror_mode": {
    "name": "ipython",
    "version": 3
   },
   "file_extension": ".py",
   "mimetype": "text/x-python",
   "name": "python",
   "nbconvert_exporter": "python",
   "pygments_lexer": "ipython3",
   "version": "3.8.12"
  }
 },
 "nbformat": 4,
 "nbformat_minor": 5
}
